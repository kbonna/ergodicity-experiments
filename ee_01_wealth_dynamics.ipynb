{
 "cells": [
  {
   "cell_type": "markdown",
   "id": "412f8ef7-4ac2-400f-b281-cd22eebaec7b",
   "metadata": {},
   "source": [
    "# Wealth dynamics\n",
    "\n",
    "In this notebook, we will introduce the concept of wealth dynamics. Wealth dynamics determine **how wealth evolves over time**. We will consider the wealth process $x(t)$ that we will use to create gambles chosen by subjects of the experiment. Wealth will change over time, following a discrete process repeating every $\\Delta t$ seconds. We can describe a single step of evolution as $x(t+\\Delta t)=x(t)+D$, where $D$ is a random variable dependent on the dynamic."
   ]
  },
  {
   "cell_type": "code",
   "execution_count": null,
   "id": "failing-consensus",
   "metadata": {
    "tags": []
   },
   "outputs": [],
   "source": [
    "from utils.paralell import isoelastic_utility, wealth_change\n",
    "from utils.style import rc_style, eta_dynamic_color\n",
    "\n",
    "import numpy as np\n",
    "import matplotlib.pyplot as plt\n",
    "import matplotlib as mpl\n",
    "\n",
    "from ipywidgets import interact, interactive, fixed, interact_manual\n",
    "import ipywidgets as widgets\n",
    "\n",
    "mpl.rcParams.update(rc_style)"
   ]
  },
  {
   "cell_type": "markdown",
   "id": "sublime-identification",
   "metadata": {},
   "source": [
    "## Isoelastic utility function\n",
    "\n",
    "The construction of wealth dynamics will be based on the concept of the utility function. Utility function $u(x)$ is a mapping, $u:\\mathbb{R}\\rightarrow\\mathbb{R}$, converting wealth into scalar value called **utility**. For all subsequent analysis, we will use [**Isoelastic utility function**](https://en.wikipedia.org/wiki/Isoelastic_utility), which is a family of functions parameterized by a single parameter called **risk-aversion parameter** and denoted as $\\eta$:\n",
    "\n",
    "$$u(x)=\\frac{x^{1-\\eta}-1}{1-\\eta}$$\n",
    "\n",
    "Below, you can play around with $\\eta$ to see how it influence Isoelastic utility function. For $\\eta < 0$, $u(x)$ is convex which leads to risk-seeking behaviors, whereas for $\\eta > 0$, $u(x)$ is concave which results in agent's risk-aversion. For $\\eta = 0$, $u(x)=x$ is an identy function resulting in risk-neutrality."
   ]
  },
  {
   "cell_type": "code",
   "execution_count": null,
   "id": "b9169f7d-529b-487d-a2ed-ac28adb6c9e7",
   "metadata": {
    "tags": []
   },
   "outputs": [],
   "source": [
    "def plot_isoelastic_function(eta, x_min=0.01, x_max=100):\n",
    "    x = np.linspace(x_min, x_max, 100)\n",
    "    y = isoelastic_utility(x, eta) \n",
    "    \n",
    "    fig, ax = plt.subplots(figsize=(6, 6))\n",
    "\n",
    "    ax.plot(x, y, label=f\"$\\eta = {eta}$\", c=eta_dynamic_color(eta))\n",
    "\n",
    "    ax.axhline(0, color=\"k\", linestyle=\":\")\n",
    "    ax.set_xlabel(\"wealth $x$\")\n",
    "    ax.set_ylabel(\"utility $u(x)$\")\n",
    "    ax.set_title(\"Isoelastic utility\")\n",
    "    ax.legend(loc=4)"
   ]
  },
  {
   "cell_type": "code",
   "execution_count": null,
   "id": "threaded-enforcement",
   "metadata": {
    "tags": []
   },
   "outputs": [],
   "source": [
    "interact(\n",
    "    plot_isoelastic_function,\n",
    "    eta=widgets.FloatSlider(min=-1, max=1, value=1),\n",
    "    x_min=widgets.fixed(0.01),\n",
    "    x_max=widgets.fixed(100),\n",
    ");"
   ]
  },
  {
   "cell_type": "markdown",
   "id": "electronic-bibliography",
   "metadata": {},
   "source": [
    "## Isoelastic wealth change\n",
    "\n",
    "The main idea behind the wealth change based on utility function is to find a formula for a single step of deterministic wealth evolution with the following property: **corresponding change in utility is constant**, i.e., does not depend on time or initial wealth. The wealth change satisfying this property would lead to linear evolution of utility regardless of the number of applied changes or starting point. We  can express it as:\n",
    "$$x(t+\\Delta t)=u^{-1}(u(x(t))+\\gamma\\Delta t)\\,$$\n",
    "where $\\gamma$ is a growth rate, and $u^{-1}$ is an inverse utility function. This equation directly express property of constant utility growth, because:\n",
    "$$u(x(t+\\Delta t))=uu^{-1}(u(x(t))+\\gamma\\Delta t)$$\n",
    "$$u(x(t+\\Delta t))=u(x(t))+\\gamma\\Delta t$$\n",
    "$$\\frac{u(x(t+\\Delta t))-u(x(t))}{\\Delta t}=\\gamma$$\n",
    "$$\\lim_{\\Delta t \\rightarrow 0}\\frac{u(x(t+\\Delta t))-u(x(t))}{\\Delta t}=\\gamma$$\n",
    "$$\\frac{du}{dt}=\\gamma$$\n",
    "Wealth change constructed this way can be viewed as a three-step process:\n",
    "1. transform wealth into utility\n",
    "2. add $\\Delta t\\gamma$ utility\n",
    "3. transform utility back to wealth\n",
    "\n",
    "If we substitute Isoelastic utility function for $u(x)$ we get:\n",
    "$$\n",
    "x(t+\\Delta t)=\n",
    "\\begin{cases}\n",
    "(x^{1-\\eta}+(1-\\eta)\\gamma\\Delta t)^{\\frac{1}{1-\\eta}} & \\text{for}\\ \\gamma\\neq 1,\\\\\n",
    "xe^{\\gamma\\Delta t} & \\text{for}\\ \\gamma=1.\\\\\n",
    "\\end{cases}\n",
    "$$\n",
    "\n",
    "Let's find out in action how this wealth change works. The plot below consists of two subplots. The left subplot will show few steps of wealth evolution starting from the initial 1000 wealth units and applying the same wealth change multiple times. Sliders will control risk-aversion parameter for utility function, $\\eta$, growth rate associated with wealth change, $\\gamma$, and initial endowment $x_0$.   \n",
    "\n",
    "> Notice that growth rates have different meanings depending on the dynamic because they correspond to utility changes and not wealth.\n",
    "\n",
    "> This general class of wealth changes enables to recover three well-known dynamics: additive ($\\eta=0$), multiplicative ($\\eta=1$) and square-root ($\\eta=0.5$). "
   ]
  },
  {
   "cell_type": "code",
   "execution_count": null,
   "id": "civil-stockholm",
   "metadata": {
    "tags": []
   },
   "outputs": [],
   "source": [
    "def plot_wealth_and_utility_change(eta_dynamic, gamma, x0=1000, n_trials=5):\n",
    "    # Initial setup\n",
    "    tv = np.arange(n_trials)\n",
    "    xv = np.zeros(n_trials)\n",
    "    xv[0] = x0\n",
    "    \n",
    "    # Evolve wealth\n",
    "    for t in tv[1:]:\n",
    "        xv[t] = wealth_change(xv[t-1], gamma, eta_dynamic)  \n",
    "    uv = isoelastic_utility(xv, eta_dynamic)\n",
    "\n",
    "    # Visualize\n",
    "    fig, (ax_x, ax_u) = plt.subplots(figsize=(15, 6), ncols=2)\n",
    "    c = eta_dynamic_color(eta_dynamic)\n",
    "\n",
    "    ax_x.plot(tv, xv, color=c, marker=\"o\")\n",
    "    for x in xv:\n",
    "        ax_x.axhline(x, color=c, alpha=.3, ls=\":\")\n",
    "    ax_x.set_ylabel(\"wealth $x(t)$\")\n",
    "    ax_x.set_xlabel(\"time $t$\")\n",
    "    ax_x.set_title(\"Changes in wealth\")\n",
    "\n",
    "    ax_u.plot(tv, uv, color=c, marker=\"o\", label=f\"$\\eta = {eta_dynamic}$\")\n",
    "    for u in uv:\n",
    "        ax_u.axhline(u, color=c, alpha=.3, ls=\":\")\n",
    "    ax_u.set_ylabel(\"utility $u(x(t))$\")\n",
    "    ax_u.set_xlabel(\"time $t$\")\n",
    "    ax_u.set_title(\"Changes in utility\")\n",
    "\n",
    "    ax_u.legend(bbox_to_anchor=(1, 1))\n",
    "    plt.tight_layout()"
   ]
  },
  {
   "cell_type": "code",
   "execution_count": null,
   "id": "dde672ad-25b8-4c47-bb5f-d0dcf83ca04f",
   "metadata": {
    "tags": []
   },
   "outputs": [],
   "source": [
    "eta_dynamic_widget = widgets.FloatSlider(min=-1, max=1, step=0.05, value=1)\n",
    "gamma_widget = widgets.FloatSlider(min=-1, max=1, step=0.01, value=0.5)\n",
    "\n",
    "def update_gamma_widget(*args):\n",
    "    gamma_thr = 10 ** (3 - 3 * eta_dynamic_widget.value)\n",
    "    gamma_widget.max = gamma_thr\n",
    "    gamma_widget.min = -gamma_thr\n",
    "    gamma_widget.value = 0.5 * gamma_thr\n",
    "eta_dynamic_widget.observe(update_gamma_widget, 'value')\n",
    "\n",
    "interact(\n",
    "    plot_wealth_and_utility_change,\n",
    "    eta_dynamic=eta_dynamic_widget,\n",
    "    gamma=gamma_widget,\n",
    "    x0=widgets.IntSlider(min=100, max=2000, step=100, value=1000),\n",
    "    n_trials=widgets.fixed(5),\n",
    ");"
   ]
  },
  {
   "cell_type": "markdown",
   "id": "willing-sheet",
   "metadata": {},
   "source": [
    "## Gamble dynamics\n",
    "\n",
    "To get a better feel of how wealth can evolve under different dynamics, we will introduce the notion of a gamble. Here, **a gamble** will be a situation where an agent can get one of two outcomes with equal probabilities. Both outcomes represent isoelastic wealth changes with a fixed growth rate. We will only assume gambles composed of two wealth changes corresponding to the same dynamics. Hence, a gamble can be represented as a triplet, $(\\gamma_1, \\gamma_2, \\eta)$, where $\\gamma_1$ and $\\gamma_2$ are growth rates for both wealth changes. \n",
    "> Note that for $\\gamma_1=\\gamma_2$ gamble becomes deterministic, i.e., only one outcome is possible. For $\\gamma_1=\\gamma_2=0$, we retrieve a null gamble, i.e., a gamble which does not affect wealth. For $\\gamma_1=-\\gamma_2$, a gamble has 0 expected change in wealth, i.e., average wealth will stay on the initial level after multiple repetitions. \n",
    "\n",
    "The plot below will show how an initial wealth can evolve after repeatedly applying the same gamble. Faded lines represent one of 300 individual wealth trajectories, whereas solid gray lines represent these individual trajectories' ensemble average. Sliders allow to control wealth dynamic $\\eta$, both growth rates constituting a gamble, $\\gamma_1$ and $\\gamma_1$, and initial endowment $x_0$."
   ]
  },
  {
   "cell_type": "code",
   "execution_count": null,
   "id": "452126dd-f584-496b-aaa7-dcf5c2e379d9",
   "metadata": {
    "tags": []
   },
   "outputs": [],
   "source": [
    "def plot_coinflip_simulation(eta_dynamic, gamma_1, gamma_2, \n",
    "                             x0=1000, n_trials=100, n_sim=500):\n",
    "    # Initial setup\n",
    "    x = np.zeros((n_trials, n_sim))\n",
    "    x[0] = x0\n",
    "    \n",
    "    # Randomly assign growth rates\n",
    "    gammas = np.array([gamma_1, gamma_2])\n",
    "    gammas_arr = gammas[np.random.randint(0, 2, size=(n_trials-1, n_sim))]\n",
    "\n",
    "    # Evolve wealth\n",
    "    for t in range(1, n_trials):\n",
    "        x[t] = wealth_change(x[t-1], gamma=gammas_arr[t-1], eta=eta_dynamic)\n",
    "\n",
    "    # Visualize\n",
    "    fig, (ax, ax_hist) = plt.subplots(\n",
    "        ncols=2, \n",
    "        gridspec_kw={'width_ratios': [4, 1]}, \n",
    "        figsize=(10, 6)\n",
    "    )\n",
    "    c = eta_dynamic_color(eta_dynamic)\n",
    "\n",
    "    ax.plot(x, c=c, alpha=0.1, marker=\".\", mfc=\"k\");\n",
    "    ax.plot(np.mean(x, axis=1), c=\"k\", alpha=0.75, lw=3);\n",
    "    ax.set_xlim([0, len(x) - 1])\n",
    "    ax.set_xlabel(\"time $t$\")\n",
    "    ax.set_ylabel(\"wealth $x(t)$\")\n",
    "\n",
    "    ax_hist.hist(x[-1], bins=30, orientation=\"horizontal\", color=\"k\", alpha=0.25)\n",
    "    ax_hist.axhline(np.mean(x[-1]), c=\"k\", alpha=0.75, lw=3)\n",
    "    ax_hist.set_xlabel(\"counts\")\n",
    "    ax_hist.set_ylim(ax.get_ylim())\n",
    "    ax_hist.set_yticks([])\n",
    "\n",
    "    plt.tight_layout()"
   ]
  },
  {
   "cell_type": "code",
   "execution_count": null,
   "id": "02a90d30-1d01-4a99-bd0b-2488d92b720e",
   "metadata": {
    "tags": []
   },
   "outputs": [],
   "source": [
    "eta_dynamic_coinflip_widget = widgets.FloatSlider(min=-1, max=1, step=0.05, value=1)\n",
    "gamma_1_widget = widgets.FloatSlider(min=-1, max=1, step=0.01, value=0.1)\n",
    "gamma_2_widget = widgets.FloatSlider(min=-1, max=1, step=0.01, value=-0.08)\n",
    "\n",
    "def update_gammas_widget(*args):\n",
    "    gamma_thr = 10 ** (3 - 3 * eta_dynamic_coinflip_widget.value)\n",
    "    for widget in [gamma_1_widget, gamma_2_widget]:\n",
    "        widget.max = gamma_thr\n",
    "        widget.min = -gamma_thr\n",
    "    gamma_1_widget.value = 0.1 * gamma_thr\n",
    "    gamma_2_widget.value = -0.08 * gamma_thr\n",
    "    \n",
    "eta_dynamic_coinflip_widget.observe(update_gammas_widget, 'value')\n",
    "\n",
    "interact(\n",
    "    plot_coinflip_simulation,\n",
    "    eta_dynamic=eta_dynamic_coinflip_widget,\n",
    "    gamma_1=gamma_1_widget,\n",
    "    gamma_2=gamma_2_widget,\n",
    "    x0=widgets.IntSlider(min=100, max=2000, step=100, value=1000),\n",
    "    n_trials=widgets.fixed(100),\n",
    "    n_sim=widgets.fixed(250)\n",
    ");"
   ]
  }
 ],
 "metadata": {
  "kernelspec": {
   "display_name": "Python 3",
   "language": "python",
   "name": "python3"
  },
  "language_info": {
   "codemirror_mode": {
    "name": "ipython",
    "version": 3
   },
   "file_extension": ".py",
   "mimetype": "text/x-python",
   "name": "python",
   "nbconvert_exporter": "python",
   "pygments_lexer": "ipython3",
   "version": "3.9.2"
  }
 },
 "nbformat": 4,
 "nbformat_minor": 5
}
